{
 "cells": [
  {
   "cell_type": "markdown",
   "metadata": {},
   "source": [
    "{ “nbformat”: 4, “nbformat_minor”: 0, “metadata”: { “colab”: {\n",
    "“provenance”: \\[\\] }, “kernelspec”: { “name”: “python3”, “display_name”:\n",
    "“Python 3” }, “language_info”: { “name”: “python” } }, “cells”: \\[ {\n",
    "“cell_type”: “code”, “source”: \\[ “import cv2”, “import numpy as np”,\n",
    "“from keras.datasets import mnist”, “from keras.layers import Dense,\n",
    "Flatten, MaxPooling2D, Dropout”, “from keras.layers.convolutional import\n",
    "Conv2D”, “from keras.models import Sequential”, “from\n",
    "tensorflow.keras.utils import to_categorical”, “import matplotlib.pyplot\n",
    "as plt” \\], “metadata”: { “id”: “yJs2eLRLOSHM” }, “execution_count”: 1,\n",
    "“outputs”: \\[\\] }, { “cell_type”: “code”, “source”: \\[ “(X_train,\n",
    "y_train), (X_test, y_test) = mnist.load_data()” \\], “metadata”: { “id”:\n",
    "“-NoTriNEPBWl” }, “execution_count”: 3, “outputs”: \\[\\] } \\] }"
   ]
  }
 ],
 "nbformat": 4,
 "nbformat_minor": 5,
 "metadata": {}
}
